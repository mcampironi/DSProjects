{
 "cells": [
  {
   "cell_type": "markdown",
   "metadata": {},
   "source": [
    "# <span style=\"color:#2F5D62\"> <center> DSIM, Assignment 5 - AA 2020/2021 </center>"
   ]
  },
  {
   "cell_type": "markdown",
   "metadata": {},
   "source": [
    "> <span style=\"color:#5E8B7E\">**Studente**:</span> Campironi Matteo\n",
    ">\n",
    "> <span style=\"color:#5E8B7E\">**Matricola**:</span> 801850"
   ]
  },
  {
   "cell_type": "markdown",
   "metadata": {},
   "source": [
    "Implement a classification script based on the fine tuning of a neural network for the 101 object classes dataset, following the guidelines shown in the notebook.\n",
    "\n",
    "Verify the impact over the model performance given by:\n",
    "1. A different architecture (i.e. no mobile net)\n",
    "2. Data augmentation operations"
   ]
  },
  {
   "cell_type": "markdown",
   "metadata": {},
   "source": [
    "### <span style=\"color:#2F5D62\"> Importo le librerie"
   ]
  },
  {
   "cell_type": "code",
   "execution_count": 1,
   "metadata": {},
   "outputs": [
    {
     "name": "stderr",
     "output_type": "stream",
     "text": [
      "Using TensorFlow backend.\n"
     ]
    }
   ],
   "source": [
    "from tensorflow import keras\n",
    "\n",
    "from tensorflow.keras.applications import mobilenet_v2\n",
    "\n",
    "from keras.applications.densenet import DenseNet121\n",
    "from keras.applications.densenet import preprocess_input as preprocess_input_densenet\n",
    "\n",
    "import numpy as np\n",
    "import tarfile\n",
    "from time import time\n",
    "from shutil import copyfile\n",
    "from matplotlib import pyplot as plt\n",
    "from sklearn.metrics import classification_report, confusion_matrix"
   ]
  },
  {
   "cell_type": "code",
   "execution_count": 2,
   "metadata": {
    "id": "aGpr51fJoC6b"
   },
   "outputs": [],
   "source": [
    "def modelPlots(hist):\n",
    "    fig = plt.figure(figsize=(20,5))\n",
    "\n",
    "    fig.add_subplot(1,2,1)\n",
    "    plt.plot(hist.history['accuracy'], c='#f5b461')\n",
    "    plt.plot(hist.history['val_accuracy'], c='#9ad3bc')\n",
    "    plt.ylabel('accuracy')\n",
    "    plt.xlabel('epoch')\n",
    "    plt.legend(['train', 'test'], loc='lower right')\n",
    "\n",
    "    fig.add_subplot(1,2,2)\n",
    "    plt.plot(hist.history['loss'], c='#f3eac2')\n",
    "    plt.plot(hist.history['val_loss'], c='#ec524b')\n",
    "    plt.ylabel('loss')\n",
    "    plt.xlabel('epoch')\n",
    "    plt.legend(['train', 'test'], loc='upper right')\n",
    "    plt.show()"
   ]
  },
  {
   "cell_type": "code",
   "execution_count": 3,
   "metadata": {
    "id": "VTrW04G5tDeZ"
   },
   "outputs": [],
   "source": [
    "base_path = '101_ObjectCategories_split/'"
   ]
  },
  {
   "cell_type": "markdown",
   "metadata": {},
   "source": [
    "# <span style=\"color:#2F5D62\"> 1. MobileNetV2"
   ]
  },
  {
   "cell_type": "markdown",
   "metadata": {},
   "source": [
    "Per prima cosa alleno un modello basato su MobileNetV2, in modo tale da poter confrontare i risulati con modelli che si basano su architetture diverse."
   ]
  },
  {
   "cell_type": "code",
   "execution_count": 4,
   "metadata": {
    "id": "lx2X8G0htEq8"
   },
   "outputs": [
    {
     "name": "stdout",
     "output_type": "stream",
     "text": [
      "Found 4600 images belonging to 102 classes.\n"
     ]
    }
   ],
   "source": [
    "# Image transformations\n",
    "train_processing = keras.preprocessing.image.ImageDataGenerator(preprocessing_function=mobilenet_v2.preprocess_input)\n",
    "train_generator = train_processing.flow_from_directory(\n",
    "        directory=base_path+'train',\n",
    "        target_size=(224, 224),\n",
    "        color_mode=\"rgb\",\n",
    "        batch_size=32,\n",
    "        class_mode=\"categorical\",\n",
    "        shuffle=True,\n",
    "        seed=1)"
   ]
  },
  {
   "cell_type": "code",
   "execution_count": 5,
   "metadata": {
    "id": "qBCUQkKHrZc2"
   },
   "outputs": [
    {
     "name": "stdout",
     "output_type": "stream",
     "text": [
      "Found 4544 images belonging to 102 classes.\n"
     ]
    }
   ],
   "source": [
    "test_processing = keras.preprocessing.image.ImageDataGenerator(preprocessing_function=mobilenet_v2.preprocess_input)\n",
    "test_generator = test_processing.flow_from_directory(\n",
    "        directory=base_path+'test',\n",
    "        target_size=(224, 224),\n",
    "        color_mode=\"rgb\",\n",
    "        batch_size=32,\n",
    "        class_mode=\"categorical\",\n",
    "        shuffle=True\n",
    ")"
   ]
  },
  {
   "cell_type": "code",
   "execution_count": 6,
   "metadata": {
    "id": "0iysyV3irbBh"
   },
   "outputs": [],
   "source": [
    "base_net = mobilenet_v2.MobileNetV2(input_shape=(224,224,3), weights='imagenet', include_top=False, pooling='avg')"
   ]
  },
  {
   "cell_type": "code",
   "execution_count": 7,
   "metadata": {
    "id": "mxtIYuklrdy5"
   },
   "outputs": [],
   "source": [
    "for layer in base_net.layers:\n",
    "    layer.trainable = False\n",
    "\n",
    "# Output of the base model\n",
    "x = base_net.output\n",
    "# New intermediate fully-connected layer + ReLU\n",
    "x = keras.layers.Dense(1024, activation='relu')(x)\n",
    "# New (final) fully-connected layer + SoftMax activation\n",
    "pred = keras.layers.Dense(102, activation='softmax')(x)\n",
    "\n",
    "net = keras.Model(inputs=base_net.input, outputs=pred)"
   ]
  },
  {
   "cell_type": "code",
   "execution_count": 8,
   "metadata": {
    "id": "QR3bi41tr37N"
   },
   "outputs": [
    {
     "name": "stdout",
     "output_type": "stream",
     "text": [
      "Epoch 1/10\n",
      "144/144 [==============================] - 26s 180ms/step - loss: 1.3419 - accuracy: 0.7161 - val_loss: 0.4713 - val_accuracy: 0.8770\n",
      "Epoch 2/10\n",
      "144/144 [==============================] - 19s 133ms/step - loss: 0.2689 - accuracy: 0.9241 - val_loss: 0.3849 - val_accuracy: 0.8996\n",
      "Epoch 3/10\n",
      "144/144 [==============================] - 19s 131ms/step - loss: 0.1270 - accuracy: 0.9652 - val_loss: 0.5264 - val_accuracy: 0.8715\n",
      "Epoch 4/10\n",
      "144/144 [==============================] - 19s 135ms/step - loss: 0.0872 - accuracy: 0.9741 - val_loss: 0.5619 - val_accuracy: 0.8798\n",
      "Epoch 5/10\n",
      "144/144 [==============================] - 20s 139ms/step - loss: 0.0777 - accuracy: 0.9807 - val_loss: 0.6094 - val_accuracy: 0.8761\n",
      "Epoch 6/10\n",
      "144/144 [==============================] - 20s 139ms/step - loss: 0.0539 - accuracy: 0.9863 - val_loss: 0.7170 - val_accuracy: 0.8783\n",
      "Epoch 7/10\n",
      "144/144 [==============================] - 20s 137ms/step - loss: 0.0463 - accuracy: 0.9887 - val_loss: 0.5670 - val_accuracy: 0.8990\n",
      "Epoch 8/10\n",
      "144/144 [==============================] - 20s 138ms/step - loss: 0.0369 - accuracy: 0.9904 - val_loss: 0.6327 - val_accuracy: 0.9001\n",
      "Epoch 9/10\n",
      "144/144 [==============================] - 19s 133ms/step - loss: 0.0437 - accuracy: 0.9907 - val_loss: 0.6725 - val_accuracy: 0.9018\n",
      "Epoch 10/10\n",
      "144/144 [==============================] - 20s 137ms/step - loss: 0.0390 - accuracy: 0.9957 - val_loss: 0.6231 - val_accuracy: 0.9049\n"
     ]
    }
   ],
   "source": [
    "net.compile(loss=keras.losses.categorical_crossentropy,\n",
    "            optimizer=keras.optimizers.RMSprop(),\n",
    "            metrics=['accuracy'])\n",
    "\n",
    "net.fit(train_generator,\n",
    "          epochs=10,\n",
    "          validation_data=test_generator);"
   ]
  },
  {
   "cell_type": "code",
   "execution_count": 9,
   "metadata": {
    "id": "eERERWDjr7FO"
   },
   "outputs": [
    {
     "name": "stdout",
     "output_type": "stream",
     "text": [
      "142/142 [==============================] - 10s 68ms/step - loss: 0.6231 - accuracy: 0.9049\n"
     ]
    },
    {
     "data": {
      "text/plain": [
       "[0.6230586171150208, 0.9049295783042908]"
      ]
     },
     "execution_count": 9,
     "metadata": {},
     "output_type": "execute_result"
    }
   ],
   "source": [
    "net.evaluate(test_generator)"
   ]
  },
  {
   "cell_type": "markdown",
   "metadata": {},
   "source": [
    "# <span style=\"color:#2F5D62\"> 2. DenseNet121"
   ]
  },
  {
   "cell_type": "markdown",
   "metadata": {},
   "source": [
    "Scelgo come nuova architettura DenseNet121. Creo dei nuovi generatori che utilizzano la `preprocessing_function` di DenseNet."
   ]
  },
  {
   "cell_type": "code",
   "execution_count": 10,
   "metadata": {},
   "outputs": [
    {
     "name": "stdout",
     "output_type": "stream",
     "text": [
      "Found 4600 images belonging to 102 classes.\n"
     ]
    }
   ],
   "source": [
    "train_processing = keras.preprocessing.image.ImageDataGenerator(preprocessing_function = preprocess_input_densenet)\n",
    "\n",
    "train_generator = train_processing.flow_from_directory('101_ObjectCategories_split/train/',\n",
    "                        target_size = (224, 224),\n",
    "                        color_mode = 'rgb',\n",
    "                        class_mode = 'categorical',\n",
    "                        batch_size = 32,\n",
    "                        shuffle = True,\n",
    "                        seed = 1)"
   ]
  },
  {
   "cell_type": "code",
   "execution_count": 11,
   "metadata": {},
   "outputs": [
    {
     "name": "stdout",
     "output_type": "stream",
     "text": [
      "Found 4544 images belonging to 102 classes.\n"
     ]
    }
   ],
   "source": [
    "test_processing = keras.preprocessing.image.ImageDataGenerator(preprocessing_function = preprocess_input_densenet)\n",
    "test_generator = test_processing.flow_from_directory('101_ObjectCategories_split/test/',\n",
    "                        target_size = (224, 224),\n",
    "                        color_mode = 'rgb',\n",
    "                        class_mode = 'categorical',\n",
    "                        batch_size = 32,\n",
    "                        shuffle = True,\n",
    "                        seed = 1)"
   ]
  },
  {
   "cell_type": "markdown",
   "metadata": {},
   "source": [
    "Carico DenseNet121"
   ]
  },
  {
   "cell_type": "code",
   "execution_count": 12,
   "metadata": {},
   "outputs": [],
   "source": [
    "base_net = keras.applications.DenseNet121(input_shape=(224,224,3), weights='imagenet', include_top=False, pooling='avg')"
   ]
  },
  {
   "cell_type": "code",
   "execution_count": 13,
   "metadata": {},
   "outputs": [],
   "source": [
    "for layer in base_net.layers:\n",
    "    layer.trainable = False\n",
    "\n",
    "x = base_net.output\n",
    "x = keras.layers.Dense(1024, activation='relu')(x)\n",
    "pred = keras.layers.Dense(102, activation='softmax')(x)\n",
    "\n",
    "net = keras.Model(inputs=base_net.input, outputs=pred)"
   ]
  },
  {
   "cell_type": "code",
   "execution_count": 14,
   "metadata": {},
   "outputs": [
    {
     "name": "stdout",
     "output_type": "stream",
     "text": [
      "Epoch 1/10\n",
      "144/144 [==============================] - 65s 450ms/step - loss: 1.3190 - accuracy: 0.7002 - val_loss: 0.4756 - val_accuracy: 0.8636\n",
      "Epoch 2/10\n",
      "144/144 [==============================] - 38s 264ms/step - loss: 0.3149 - accuracy: 0.9000 - val_loss: 0.4091 - val_accuracy: 0.8790\n",
      "Epoch 3/10\n",
      "144/144 [==============================] - 38s 266ms/step - loss: 0.1581 - accuracy: 0.9509 - val_loss: 0.5283 - val_accuracy: 0.8735\n",
      "Epoch 4/10\n",
      "144/144 [==============================] - 38s 267ms/step - loss: 0.1127 - accuracy: 0.9657 - val_loss: 0.3998 - val_accuracy: 0.8974\n",
      "Epoch 5/10\n",
      "144/144 [==============================] - 38s 267ms/step - loss: 0.0833 - accuracy: 0.9776 - val_loss: 0.4428 - val_accuracy: 0.8979\n",
      "Epoch 6/10\n",
      "144/144 [==============================] - 39s 269ms/step - loss: 0.0676 - accuracy: 0.9843 - val_loss: 0.3362 - val_accuracy: 0.9221\n",
      "Epoch 7/10\n",
      "144/144 [==============================] - 39s 269ms/step - loss: 0.0546 - accuracy: 0.9841 - val_loss: 0.4169 - val_accuracy: 0.9082\n",
      "Epoch 8/10\n",
      "144/144 [==============================] - 39s 270ms/step - loss: 0.0426 - accuracy: 0.9898 - val_loss: 0.3905 - val_accuracy: 0.9188\n",
      "Epoch 9/10\n",
      "144/144 [==============================] - 39s 272ms/step - loss: 0.0388 - accuracy: 0.9898 - val_loss: 0.7827 - val_accuracy: 0.8695\n",
      "Epoch 10/10\n",
      "144/144 [==============================] - 39s 270ms/step - loss: 0.0377 - accuracy: 0.9907 - val_loss: 0.5797 - val_accuracy: 0.9065\n"
     ]
    }
   ],
   "source": [
    "net.compile(loss=keras.losses.categorical_crossentropy,\n",
    "            optimizer=keras.optimizers.RMSprop(),\n",
    "            metrics=['accuracy'])\n",
    "\n",
    "hist = net.fit(train_generator,\n",
    "          epochs=10,\n",
    "          validation_data=test_generator);"
   ]
  },
  {
   "cell_type": "code",
   "execution_count": 15,
   "metadata": {},
   "outputs": [
    {
     "data": {
      "image/png": "[encoded data removed]",
      "text/plain": [
       "<Figure size 1440x360 with 2 Axes>"
      ]
     },
     "metadata": {
      "needs_background": "light"
     },
     "output_type": "display_data"
    }
   ],
   "source": [
    "modelPlots(hist)"
   ]
  },
  {
   "cell_type": "code",
   "execution_count": 16,
   "metadata": {},
   "outputs": [
    {
     "name": "stdout",
     "output_type": "stream",
     "text": [
      "142/142 [==============================] - 19s 136ms/step - loss: 0.5797 - accuracy: 0.9065\n"
     ]
    },
    {
     "data": {
      "text/plain": [
       "[0.5796903371810913, 0.9064700603485107]"
      ]
     },
     "execution_count": 16,
     "metadata": {},
     "output_type": "execute_result"
    }
   ],
   "source": [
    "net.evaluate(test_generator)"
   ]
  },
  {
   "cell_type": "markdown",
   "metadata": {},
   "source": [
    "È possibile osservare che l'accuracy sul test non si discosti molto dal modello basato su MobileNetV2, ma comunque sia presente overfitting nel modello."
   ]
  },
  {
   "cell_type": "markdown",
   "metadata": {},
   "source": [
    "# <span style=\"color:#2F5D62\"> 3. DenseNet121 con Data Augmentation"
   ]
  },
  {
   "cell_type": "markdown",
   "metadata": {},
   "source": [
    "Aggiungo delle tecniche di data augmentation al generatore precedente. Queste verranno applicate solamente al dataset di training:"
   ]
  },
  {
   "cell_type": "code",
   "execution_count": 17,
   "metadata": {},
   "outputs": [
    {
     "name": "stdout",
     "output_type": "stream",
     "text": [
      "Found 4600 images belonging to 102 classes.\n"
     ]
    }
   ],
   "source": [
    "train_processing = keras.preprocessing.image.ImageDataGenerator(preprocessing_function = preprocess_input_densenet,\n",
    "                                      rotation_range = 45,\n",
    "                                      width_shift_range = .2,\n",
    "                                      height_shift_range = .2,\n",
    "                                      horizontal_flip = True,\n",
    "                                      zoom_range = .2)\n",
    "\n",
    "train_generator = train_processing.flow_from_directory('101_ObjectCategories_split/train/',\n",
    "                        target_size = (224, 224),\n",
    "                        color_mode = 'rgb',\n",
    "                        class_mode = 'categorical',\n",
    "                        batch_size = 32,\n",
    "                        shuffle = True,\n",
    "                        seed = 1)"
   ]
  },
  {
   "cell_type": "code",
   "execution_count": 18,
   "metadata": {},
   "outputs": [
    {
     "name": "stdout",
     "output_type": "stream",
     "text": [
      "Found 4544 images belonging to 102 classes.\n"
     ]
    }
   ],
   "source": [
    "test_processing = keras.preprocessing.image.ImageDataGenerator(preprocessing_function = preprocess_input_densenet)\n",
    "test_generator = test_processing.flow_from_directory('101_ObjectCategories_split/test/',\n",
    "                        target_size = (224, 224),\n",
    "                        color_mode = 'rgb',\n",
    "                        class_mode = 'categorical',\n",
    "                        batch_size = 32,\n",
    "                        shuffle = True,\n",
    "                        seed = 1)"
   ]
  },
  {
   "cell_type": "code",
   "execution_count": 19,
   "metadata": {},
   "outputs": [],
   "source": [
    "base_net = keras.applications.DenseNet121(input_shape=(224,224,3), weights='imagenet', include_top=False, pooling='avg')"
   ]
  },
  {
   "cell_type": "code",
   "execution_count": 20,
   "metadata": {},
   "outputs": [],
   "source": [
    "for layer in base_net.layers:\n",
    "    layer.trainable = False\n",
    "\n",
    "x = base_net.output\n",
    "x = keras.layers.Dense(1024, activation='relu')(x)\n",
    "pred = keras.layers.Dense(102, activation='softmax')(x)\n",
    "\n",
    "net = keras.Model(inputs=base_net.input, outputs=pred)"
   ]
  },
  {
   "cell_type": "code",
   "execution_count": 21,
   "metadata": {
    "scrolled": true
   },
   "outputs": [
    {
     "name": "stdout",
     "output_type": "stream",
     "text": [
      "Epoch 1/10\n",
      "144/144 [==============================] - 62s 427ms/step - loss: 1.9309 - accuracy: 0.5717 - val_loss: 0.7207 - val_accuracy: 0.7898\n",
      "Epoch 2/10\n",
      "144/144 [==============================] - 59s 412ms/step - loss: 0.6860 - accuracy: 0.7985 - val_loss: 0.5764 - val_accuracy: 0.8360\n",
      "Epoch 3/10\n",
      "144/144 [==============================] - 60s 417ms/step - loss: 0.4555 - accuracy: 0.8578 - val_loss: 0.4801 - val_accuracy: 0.8592\n",
      "Epoch 4/10\n",
      "144/144 [==============================] - 60s 414ms/step - loss: 0.3445 - accuracy: 0.8952 - val_loss: 0.4966 - val_accuracy: 0.8757\n",
      "Epoch 5/10\n",
      "144/144 [==============================] - 60s 417ms/step - loss: 0.2887 - accuracy: 0.9085 - val_loss: 0.4184 - val_accuracy: 0.8935\n",
      "Epoch 6/10\n",
      "144/144 [==============================] - 60s 414ms/step - loss: 0.2571 - accuracy: 0.9185 - val_loss: 0.4746 - val_accuracy: 0.8818\n",
      "Epoch 7/10\n",
      "144/144 [==============================] - 59s 412ms/step - loss: 0.2318 - accuracy: 0.9311 - val_loss: 0.4250 - val_accuracy: 0.8963\n",
      "Epoch 8/10\n",
      "144/144 [==============================] - 59s 409ms/step - loss: 0.2121 - accuracy: 0.9324 - val_loss: 0.4518 - val_accuracy: 0.8908\n",
      "Epoch 9/10\n",
      "144/144 [==============================] - 56s 389ms/step - loss: 0.1828 - accuracy: 0.9426 - val_loss: 0.4948 - val_accuracy: 0.8869\n",
      "Epoch 10/10\n",
      "144/144 [==============================] - 56s 389ms/step - loss: 0.1859 - accuracy: 0.9450 - val_loss: 0.4700 - val_accuracy: 0.8917\n"
     ]
    }
   ],
   "source": [
    "net.compile(loss=keras.losses.categorical_crossentropy,\n",
    "            optimizer=keras.optimizers.RMSprop(),\n",
    "            metrics=['accuracy'])\n",
    "\n",
    "hist = net.fit(train_generator,\n",
    "          epochs=10,\n",
    "          validation_data=test_generator);"
   ]
  },
  {
   "cell_type": "code",
   "execution_count": 22,
   "metadata": {},
   "outputs": [
    {
     "data": {
      "image/png": "[encoded data removed]",
      "text/plain": [
       "<Figure size 1440x360 with 2 Axes>"
      ]
     },
     "metadata": {
      "needs_background": "light"
     },
     "output_type": "display_data"
    }
   ],
   "source": [
    "modelPlots(hist)"
   ]
  },
  {
   "cell_type": "code",
   "execution_count": 23,
   "metadata": {},
   "outputs": [
    {
     "name": "stdout",
     "output_type": "stream",
     "text": [
      "142/142 [==============================] - 19s 133ms/step - loss: 0.4700 - accuracy: 0.8917\n"
     ]
    },
    {
     "data": {
      "text/plain": [
       "[0.47002550959587097, 0.8917253613471985]"
      ]
     },
     "execution_count": 23,
     "metadata": {},
     "output_type": "execute_result"
    }
   ],
   "source": [
    "net.evaluate(test_generator)"
   ]
  },
  {
   "cell_type": "markdown",
   "metadata": {},
   "source": [
    "Come è possibile osservare l'accuracy sul test è leggermente calata, ma le tecniche di data augmentation hanno reso il training set più vario, riducendo l'overfitting che colpiva i modelli precedenti."
   ]
  }
 ],
 "metadata": {
  "colab": {
   "name": "Untitled4.ipynb",
   "provenance": []
  },
  "kernelspec": {
   "display_name": "Python 3",
   "language": "python",
   "name": "python3"
  },
  "language_info": {
   "codemirror_mode": {
    "name": "ipython",
    "version": 3
   },
   "file_extension": ".py",
   "mimetype": "text/x-python",
   "name": "python",
   "nbconvert_exporter": "python",
   "pygments_lexer": "ipython3",
   "version": "3.8.5"
  }
 },
 "nbformat": 4,
 "nbformat_minor": 1
}
