{
 "cells": [
  {
   "cell_type": "markdown",
   "metadata": {},
   "source": [
    "# <span style=\"color:#16697a\"> <center> DSIM, Assignment 1 - AA 2020/2021 </center>"
   ]
  },
  {
   "cell_type": "markdown",
   "metadata": {},
   "source": [
    "> <span style=\"color:#ffa62b\">**Studente**:</span> Campironi Matteo\n",
    ">\n",
    "> <span style=\"color:#ffa62b\">**Matricola**:</span> 801850"
   ]
  },
  {
   "cell_type": "markdown",
   "metadata": {},
   "source": [
    "<span style=\"color:#ffa62b\">**Zero-Crossing Rate**:</span>\n",
    "count how many times the signal goes from positive to negative, and from negative to positive.\n",
    "\n",
    "Possible approach:\n",
    "\n",
    "1. Shift the signal by one unit\n",
    "2. Compare point-by-point the sign (``np.sign()``) of the original signal and of the shifted signal\n",
    "3. Accumulate the instances of sign change"
   ]
  },
  {
   "cell_type": "code",
   "execution_count": 1,
   "metadata": {},
   "outputs": [],
   "source": [
    "import numpy as np\n",
    "from scipy.io import wavfile as wav\n",
    "from matplotlib import pyplot as plt\n",
    "\n",
    "#librosa usata solo per controllare la correttezza dell'output\n",
    "import librosa \n",
    "import librosa.display as lid"
   ]
  },
  {
   "cell_type": "markdown",
   "metadata": {},
   "source": [
    "# <span style=\"color:#16697a\"> 1. Toy example"
   ]
  },
  {
   "cell_type": "markdown",
   "metadata": {},
   "source": [
    "Proviamo a creare un esempio giocattolo per capire come calcolare lo ZCR:"
   ]
  },
  {
   "cell_type": "code",
   "execution_count": 2,
   "metadata": {},
   "outputs": [],
   "source": [
    "wave = np.array([1, 6, 4, -1, -2, -1, 1, 5, -4, -5, -2, -1, 1, 2, 1, 4])"
   ]
  },
  {
   "cell_type": "markdown",
   "metadata": {},
   "source": [
    "Rappresentiamo l'onda graficamente:"
   ]
  },
  {
   "cell_type": "markdown",
   "metadata": {},
   "source": [
    "<div style=\"width:image width px; \n",
    "            font-size:80%; \n",
    "            text-align:center; \n",
    "            float: left; padding-left-right-top-bottom:31em;  \">\n",
    "    <img src=\"https://i.imgur.com/bi5me9v.jpg\" \n",
    "         width=600 \n",
    "         style=\"padding-left:250px;\"/>\n",
    "    </div>\n",
    "</div>"
   ]
  },
  {
   "cell_type": "markdown",
   "metadata": {},
   "source": [
    "Possiamo osservare come in questo caso il segnale passi da positivo a negativo e viceversa 4 volte. Questo è il risultato che ci aspettiamo di ottenere con la nostra funzione ZCR."
   ]
  },
  {
   "cell_type": "markdown",
   "metadata": {},
   "source": [
    "Consideriamo ora la stessa onda traslata di un'unità:"
   ]
  },
  {
   "cell_type": "markdown",
   "metadata": {},
   "source": [
    "<div style=\"width:image width px; \n",
    "            font-size:80%; \n",
    "            text-align:center; \n",
    "            float: left; padding-left-right-top-bottom:31em;  \">\n",
    "    <img src=\"https://i.imgur.com/m4qopFx.jpg\" \n",
    "         width=600 \n",
    "         style=\"padding-left:250px;\"/>\n",
    "    </div>\n",
    "</div>"
   ]
  },
  {
   "cell_type": "markdown",
   "metadata": {},
   "source": [
    "Calcoliamo la funzione segno utilizzando `np.sign()` offerta da numpy:"
   ]
  },
  {
   "cell_type": "code",
   "execution_count": 3,
   "metadata": {},
   "outputs": [
    {
     "data": {
      "text/plain": [
       "array([ 1,  1,  1, -1, -1, -1,  1,  1, -1, -1, -1, -1,  1,  1,  1,  1])"
      ]
     },
     "execution_count": 3,
     "metadata": {},
     "output_type": "execute_result"
    }
   ],
   "source": [
    "np.sign(wave)"
   ]
  },
  {
   "cell_type": "markdown",
   "metadata": {},
   "source": [
    "<div style=\"width:image width px; \n",
    "            font-size:80%; \n",
    "            text-align:center; \n",
    "            float: left; padding-left-right-top-bottom:31em;  \">\n",
    "    <img src=\"https://i.imgur.com/M7BEBFD.jpg\" \n",
    "         width=600 \n",
    "         style=\"padding-left:250px;\"/>\n",
    "    </div>\n",
    "</div>"
   ]
  },
  {
   "cell_type": "markdown",
   "metadata": {},
   "source": [
    "Utilizziamo la funzione `np.diff()` che ci permette di calcolare le differenze tra un elemento di un array e il suo precedente. Quello che si ottiene è un array di lunghezza length(wave)-1:"
   ]
  },
  {
   "cell_type": "code",
   "execution_count": 4,
   "metadata": {},
   "outputs": [
    {
     "data": {
      "text/plain": [
       "array([ 0,  0, -2,  0,  0,  2,  0, -2,  0,  0,  0,  2,  0,  0,  0])"
      ]
     },
     "execution_count": 4,
     "metadata": {},
     "output_type": "execute_result"
    }
   ],
   "source": [
    "np.diff(np.sign(wave))"
   ]
  },
  {
   "cell_type": "markdown",
   "metadata": {},
   "source": [
    "In figura è mostrato il grafico della funzione $\\text{sign}(\\text{wave}[i])-\\text{sign}(\\text{wave}[i-1])$. Come è possibile osservare vengono assunti valori diversi da $0$ esattamente nei punti in cui vi è un cambio di segno. Quindi per calcolare lo ZCR basterà contare il numero di volte in cui il vettore delle differenze presenta elementi non nulli."
   ]
  },
  {
   "cell_type": "markdown",
   "metadata": {},
   "source": [
    "<div style=\"width:image width px; \n",
    "            font-size:80%; \n",
    "            text-align:center; \n",
    "            float: left; padding-left-right-top-bottom:31em;  \">\n",
    "    <img src=\"https://i.imgur.com/jCnCKMu.jpg\" \n",
    "         width=600 \n",
    "         style=\"padding-left:250px;\"/>\n",
    "    </div>\n",
    "</div>"
   ]
  },
  {
   "cell_type": "code",
   "execution_count": 5,
   "metadata": {},
   "outputs": [
    {
     "data": {
      "text/plain": [
       "4"
      ]
     },
     "execution_count": 5,
     "metadata": {},
     "output_type": "execute_result"
    }
   ],
   "source": [
    "sum((np.diff(np.sign(wave)) != 0))"
   ]
  },
  {
   "cell_type": "markdown",
   "metadata": {},
   "source": [
    "Proviamo ora ad utilizzare la funzione incorporata nella libreria `librosa`"
   ]
  },
  {
   "cell_type": "code",
   "execution_count": 6,
   "metadata": {},
   "outputs": [
    {
     "name": "stdout",
     "output_type": "stream",
     "text": [
      "4\n"
     ]
    }
   ],
   "source": [
    "zero_crossings = librosa.zero_crossings(wave, pad=False)\n",
    "print(sum(zero_crossings))"
   ]
  },
  {
   "cell_type": "markdown",
   "metadata": {},
   "source": [
    "# <span style=\"color:#16697a\"> 2. Real example"
   ]
  },
  {
   "cell_type": "markdown",
   "metadata": {},
   "source": [
    "Proviamo ora con un esempio concreto. Verrà utilizzato uno dei file wav proposti nella seconda esercitazione:"
   ]
  },
  {
   "cell_type": "code",
   "execution_count": 7,
   "metadata": {},
   "outputs": [],
   "source": [
    "sr, track = wav.read('recordings/0_jackson_1.wav')"
   ]
  },
  {
   "cell_type": "code",
   "execution_count": 8,
   "metadata": {},
   "outputs": [
    {
     "data": {
      "image/png": "[encoded data removed]",
      "text/plain": [
       "<Figure size 1008x360 with 1 Axes>"
      ]
     },
     "metadata": {
      "needs_background": "light"
     },
     "output_type": "display_data"
    }
   ],
   "source": [
    "plt.figure(figsize=(14, 5))\n",
    "lid.waveplot(track.astype(np.float32), sr=sr); plt.show()"
   ]
  },
  {
   "cell_type": "markdown",
   "metadata": {},
   "source": [
    "Proviamo quindi a calcolare come prima lo Zero-Crossing Rate e verifichiamo che il risultato coincida con quello della libreria `librosa`:"
   ]
  },
  {
   "cell_type": "code",
   "execution_count": 9,
   "metadata": {},
   "outputs": [
    {
     "data": {
      "text/plain": [
       "398"
      ]
     },
     "execution_count": 9,
     "metadata": {},
     "output_type": "execute_result"
    }
   ],
   "source": [
    "sum((np.diff(np.sign(track)) != 0))"
   ]
  },
  {
   "cell_type": "code",
   "execution_count": 10,
   "metadata": {},
   "outputs": [
    {
     "name": "stdout",
     "output_type": "stream",
     "text": [
      "395\n"
     ]
    }
   ],
   "source": [
    "zero_crossings = librosa.zero_crossings(track, pad=False)\n",
    "print(sum(zero_crossings))"
   ]
  },
  {
   "cell_type": "markdown",
   "metadata": {},
   "source": [
    "Come possiamo osservare, in questo caso i due valori sono diversi. Andiamo a considerare una specifica finestra di valori che va da 117 a 122:"
   ]
  },
  {
   "cell_type": "code",
   "execution_count": 11,
   "metadata": {},
   "outputs": [
    {
     "name": "stdout",
     "output_type": "stream",
     "text": [
      "[  5  11   0 285  38]\n"
     ]
    },
    {
     "data": {
      "image/png": "[encoded data removed]",
      "text/plain": [
       "<Figure size 1008x360 with 1 Axes>"
      ]
     },
     "metadata": {
      "needs_background": "light"
     },
     "output_type": "display_data"
    }
   ],
   "source": [
    "start = 117\n",
    "end = 122\n",
    "\n",
    "print(track[start:end])\n",
    "\n",
    "plt.figure(figsize=(14, 5))\n",
    "plt.plot(track[start:end]); plt.show()"
   ]
  },
  {
   "cell_type": "markdown",
   "metadata": {},
   "source": [
    "Possiamo notare come sia presente un valore nullo del segnale. La funzione `np.sign()` restituisce 0 se l'argomento è nullo, il che porta a contare un cambio di segno anche quando la funzione non è mai stata negativa.\n",
    "\n",
    "Per questo motivo utilizzerò la più semplice funzione `np.signbit()`, che resituisce `True` se i valori sono negativi e `False` se positivi o nulli:"
   ]
  },
  {
   "cell_type": "code",
   "execution_count": 12,
   "metadata": {},
   "outputs": [
    {
     "data": {
      "text/plain": [
       "395"
      ]
     },
     "execution_count": 12,
     "metadata": {},
     "output_type": "execute_result"
    }
   ],
   "source": [
    "sum(np.diff(np.signbit(track)))"
   ]
  },
  {
   "cell_type": "markdown",
   "metadata": {},
   "source": [
    "In questo modo ritroviamo esattamente il valore ottenuto con la funzione `librosa.zero_crossings`"
   ]
  },
  {
   "cell_type": "markdown",
   "metadata": {},
   "source": [
    "# <span style=\"color:#16697a\"> 3. Definition of the ZCR function"
   ]
  },
  {
   "cell_type": "markdown",
   "metadata": {},
   "source": [
    "Definiamo quindi la funzione ZCR, tenendo conto di quanto visto precedentemente e dando la possibilità di scelta all'utente:\n",
    "- `zp = True`: lo zero viene contato come positivo, quindi viene utilizzata la seguente funzione segno\n",
    "\n",
    "$$\\text{sign}(x) = \\begin{cases} \n",
    "      1 & x\\geq 0 \\\\\n",
    "      -1 & x<0 \n",
    "   \\end{cases}$$\n",
    "   \n",
    "- `zp = False`: lo zero non viene contato come positivo, quindi viene utilizzata la seguente funzione segno\n",
    "\n",
    "$$\\text{sign}(x) = \\begin{cases} \n",
    "      1 & x> 0 \\\\\n",
    "      0 & x= 0 \\\\\n",
    "      -1 & x<0 \n",
    "   \\end{cases}$$\n",
    "\n",
    "Come su `librosa.zero_crossings` di default `zp = True`"
   ]
  },
  {
   "cell_type": "code",
   "execution_count": 13,
   "metadata": {},
   "outputs": [],
   "source": [
    "def zcr(input, zp=True):\n",
    "    if zp:\n",
    "        return [sum(np.diff(np.signbit(input)))]\n",
    "    else:\n",
    "        return [sum((np.diff(np.sign(input)) != 0))]"
   ]
  },
  {
   "cell_type": "markdown",
   "metadata": {},
   "source": [
    "# <span style=\"color:#16697a\"> 4. Effects on classification performance"
   ]
  },
  {
   "cell_type": "code",
   "execution_count": 14,
   "metadata": {},
   "outputs": [],
   "source": [
    "import os\n",
    "import numpy as np\n",
    "from time import time\n",
    "from scipy.io import wavfile as wav\n",
    "\n",
    "import matplotlib.pyplot as plt\n",
    "import IPython.display as ipd\n",
    "\n",
    "# Classification tools\n",
    "from sklearn.svm import SVC\n",
    "from sklearn.model_selection import train_test_split, GridSearchCV\n",
    "from sklearn.metrics import classification_report, confusion_matrix\n",
    "\n",
    "# Advanced audio features\n",
    "import librosa\n",
    "import librosa.display as lid\n",
    "from sklearn.preprocessing import scale"
   ]
  },
  {
   "cell_type": "code",
   "execution_count": 15,
   "metadata": {},
   "outputs": [],
   "source": [
    "def identity(input):\n",
    "    return input\n",
    "\n",
    "def load_data(feature_extractor=identity, normalize=False):\n",
    "\n",
    "    labels = []\n",
    "    features = []\n",
    "\n",
    "    for f in sorted(os.listdir('./recordings')):\n",
    "        if f.endswith('.wav'):\n",
    "            # Load file and compute the requested features\n",
    "            _, signal = wav.read('./recordings/' + f)\n",
    "            cur_features = feature_extractor(signal)\n",
    "            features.append(cur_features)\n",
    "\n",
    "            # Classes\n",
    "            label = f.split('_')[0]\n",
    "            labels.append(label)\n",
    "\n",
    "    # X: features, y: labels\n",
    "    X_train, X_test, y_train, y_test = train_test_split(features, labels, test_size=0.1, random_state=1)\n",
    "\n",
    "    if normalize:\n",
    "        eps = 0.001\n",
    "        X_train = np.array(X_train)\n",
    "        X_train_mean = X_train.mean(axis=0)\n",
    "        X_train_std = X_train.std(axis=0)\n",
    "        X_train = (X_train - X_train_mean + eps)/(X_train_std + eps)\n",
    "        X_train = [row for row in X_train]\n",
    "\n",
    "        X_test = [row for row in (np.array(X_test) - X_train_mean + eps)/(X_train_std + eps)]\n",
    "\n",
    "    return X_train, X_test, y_train, y_test"
   ]
  },
  {
   "cell_type": "code",
   "execution_count": 16,
   "metadata": {},
   "outputs": [],
   "source": [
    "def crop(input, size=100):\n",
    "    # Remove any values exceeding the given limit\n",
    "    output = input[0:min(size, input.shape[0])]\n",
    "    # Add null values (padding) in order to reach the requested size\n",
    "    output = np.concatenate((output, np.zeros(size-output.shape[0])))\n",
    "    return output"
   ]
  },
  {
   "cell_type": "code",
   "execution_count": 17,
   "metadata": {},
   "outputs": [],
   "source": [
    "def sdev(input):\n",
    "    return np.std(input, keepdims=True)"
   ]
  },
  {
   "cell_type": "code",
   "execution_count": 18,
   "metadata": {},
   "outputs": [],
   "source": [
    "def avg(input):\n",
    "    return np.mean(input, keepdims=True)\n",
    "\n",
    "def aavg(input):\n",
    "    return np.mean(np.abs(input), keepdims=True)"
   ]
  },
  {
   "cell_type": "code",
   "execution_count": 19,
   "metadata": {},
   "outputs": [],
   "source": [
    "def duration(input):\n",
    "    return input.shape\n",
    "\n",
    "def energy(input):\n",
    "    return np.sum((input*1.0)**2, keepdims=True)"
   ]
  },
  {
   "cell_type": "code",
   "execution_count": 20,
   "metadata": {},
   "outputs": [],
   "source": [
    "def mfcc(input, rate=8000, min_len=40, sampling=1):\n",
    "    # Sample values\n",
    "    signal = input[::sampling]\n",
    "    # Compute MFCC coefficients\n",
    "    mfcc = librosa.feature.mfcc(signal*1.0, sr=int(rate/sampling))\n",
    "    # Add additional necessary zeroes to reach the required length\n",
    "    pad_width = min_len - mfcc.shape[1]\n",
    "    mfcc = np.pad(mfcc, pad_width=((0, 0), (0, pad_width)), mode='constant')\n",
    "    # Flatten into monodimensional vector for the SVM\n",
    "    mfcc = mfcc.flatten()\n",
    "    return mfcc"
   ]
  },
  {
   "cell_type": "code",
   "execution_count": 21,
   "metadata": {},
   "outputs": [],
   "source": [
    "def combo(input):\n",
    "    return np.concatenate((aavg(input),sdev(input),duration(input),energy(input)))"
   ]
  },
  {
   "cell_type": "code",
   "execution_count": 22,
   "metadata": {},
   "outputs": [],
   "source": [
    "# Data loading\n",
    "X_train, X_test, y_train, y_test = load_data(feature_extractor=combo, normalize=True)"
   ]
  },
  {
   "cell_type": "code",
   "execution_count": 23,
   "metadata": {},
   "outputs": [
    {
     "name": "stdout",
     "output_type": "stream",
     "text": [
      "C: 1000.0\n",
      "Gamma: 0.5\n",
      "Training completed in 2.989s\n"
     ]
    }
   ],
   "source": [
    "# Parameters to be tested in cross-validation\n",
    "param_grid = {'C': [1e2, 5e2, 1e3],\n",
    "          'gamma': [0.005, 0.01, 0.1, 0.5, 1.0], }\n",
    "\n",
    "# Support Vector Machine initialization\n",
    "clf = GridSearchCV(SVC(kernel='rbf', class_weight='balanced'), param_grid, cv=2)\n",
    "\n",
    "# Training\n",
    "t0 = time()\n",
    "clf = clf.fit(X_train, y_train)\n",
    "print('C: {}'.format(clf.best_params_['C']))\n",
    "print('Gamma: {}'.format(clf.best_params_['gamma']))\n",
    "print('Training completed in %0.3fs' % (time() - t0))"
   ]
  },
  {
   "cell_type": "code",
   "execution_count": 24,
   "metadata": {},
   "outputs": [
    {
     "name": "stdout",
     "output_type": "stream",
     "text": [
      "Classification report:\n",
      "              precision    recall  f1-score   support\n",
      "\n",
      "           0       0.58      0.65      0.61        17\n",
      "           1       0.33      0.40      0.36        10\n",
      "           2       0.28      0.33      0.30        15\n",
      "           3       0.53      0.42      0.47        19\n",
      "           4       0.36      0.45      0.40        11\n",
      "           5       0.44      0.29      0.35        14\n",
      "           6       0.79      0.79      0.79        14\n",
      "           7       0.80      0.42      0.55        19\n",
      "           8       0.35      0.41      0.38        17\n",
      "           9       0.32      0.43      0.36        14\n",
      "\n",
      "    accuracy                           0.46       150\n",
      "   macro avg       0.48      0.46      0.46       150\n",
      "weighted avg       0.49      0.46      0.47       150\n",
      "\n",
      "Confusion matrix:\n",
      "[[11  0  0  0  0  0  0  0  0  6]\n",
      " [ 0  4  2  2  0  1  0  0  1  0]\n",
      " [ 2  1  5  3  0  0  0  0  2  2]\n",
      " [ 0  3  7  8  0  0  0  0  0  1]\n",
      " [ 1  1  1  1  5  2  0  0  0  0]\n",
      " [ 1  0  0  1  4  4  1  0  2  1]\n",
      " [ 0  0  0  0  0  0 11  1  2  0]\n",
      " [ 0  0  0  0  2  0  2  8  4  3]\n",
      " [ 0  2  2  0  3  2  0  1  7  0]\n",
      " [ 4  1  1  0  0  0  0  0  2  6]]\n"
     ]
    },
    {
     "data": {
      "image/png": "[encoded data removed]",
      "text/plain": [
       "<Figure size 432x288 with 1 Axes>"
      ]
     },
     "metadata": {
      "needs_background": "light"
     },
     "output_type": "display_data"
    }
   ],
   "source": [
    "# Test\n",
    "y_pred = clf.predict(X_test)\n",
    "\n",
    "# Classificaiton report\n",
    "print('Classification report:')\n",
    "print(classification_report(y_test, y_pred))\n",
    "\n",
    "# Confusion matrix\n",
    "print('Confusion matrix:')\n",
    "cm = confusion_matrix(y_test, y_pred)\n",
    "print(cm)\n",
    "plt.imshow(cm, cmap=plt.cm.Blues); plt.show()"
   ]
  },
  {
   "cell_type": "code",
   "execution_count": 25,
   "metadata": {},
   "outputs": [],
   "source": [
    "def comboZCR(input):\n",
    "    return np.concatenate((aavg(input),sdev(input),duration(input),energy(input),zcr(input)))"
   ]
  },
  {
   "cell_type": "code",
   "execution_count": 26,
   "metadata": {},
   "outputs": [],
   "source": [
    "# Data loading\n",
    "X_train, X_test, y_train, y_test = load_data(feature_extractor=comboZCR, normalize=True)"
   ]
  },
  {
   "cell_type": "code",
   "execution_count": 27,
   "metadata": {},
   "outputs": [
    {
     "name": "stdout",
     "output_type": "stream",
     "text": [
      "C: 500.0\n",
      "Gamma: 0.1\n",
      "Training completed in 2.027s\n"
     ]
    }
   ],
   "source": [
    "# Parameters to be tested in cross-validation\n",
    "param_grid = {'C': [1e2, 5e2, 1e3],\n",
    "          'gamma': [0.005, 0.01, 0.1, 0.5, 1.0], }\n",
    "\n",
    "# Support Vector Machine initialization\n",
    "clf = GridSearchCV(SVC(kernel='rbf', class_weight='balanced'), param_grid, cv=2)\n",
    "\n",
    "# Training\n",
    "t0 = time()\n",
    "clf = clf.fit(X_train, y_train)\n",
    "print('C: {}'.format(clf.best_params_['C']))\n",
    "print('Gamma: {}'.format(clf.best_params_['gamma']))\n",
    "print('Training completed in %0.3fs' % (time() - t0))"
   ]
  },
  {
   "cell_type": "code",
   "execution_count": 28,
   "metadata": {},
   "outputs": [
    {
     "name": "stdout",
     "output_type": "stream",
     "text": [
      "Classification report:\n",
      "              precision    recall  f1-score   support\n",
      "\n",
      "           0       0.78      0.82      0.80        17\n",
      "           1       0.53      0.90      0.67        10\n",
      "           2       0.64      0.60      0.62        15\n",
      "           3       0.75      0.63      0.69        19\n",
      "           4       0.47      0.64      0.54        11\n",
      "           5       0.53      0.64      0.58        14\n",
      "           6       0.87      0.93      0.90        14\n",
      "           7       0.89      0.42      0.57        19\n",
      "           8       0.56      0.59      0.57        17\n",
      "           9       0.82      0.64      0.72        14\n",
      "\n",
      "    accuracy                           0.67       150\n",
      "   macro avg       0.68      0.68      0.67       150\n",
      "weighted avg       0.70      0.67      0.67       150\n",
      "\n",
      "Confusion matrix:\n",
      "[[14  0  1  0  0  0  0  0  0  2]\n",
      " [ 0  9  0  0  1  0  0  0  0  0]\n",
      " [ 0  0  9  2  0  1  1  0  2  0]\n",
      " [ 1  1  1 12  1  2  1  0  0  0]\n",
      " [ 0  2  1  1  7  0  0  0  0  0]\n",
      " [ 0  1  1  0  1  9  0  1  1  0]\n",
      " [ 0  0  0  0  0  0 13  0  1  0]\n",
      " [ 1  1  0  0  2  3  0  8  4  0]\n",
      " [ 0  2  1  1  1  2  0  0 10  0]\n",
      " [ 2  1  0  0  2  0  0  0  0  9]]\n"
     ]
    },
    {
     "data": {
      "image/png": "[encoded data removed]",
      "text/plain": [
       "<Figure size 432x288 with 1 Axes>"
      ]
     },
     "metadata": {
      "needs_background": "light"
     },
     "output_type": "display_data"
    }
   ],
   "source": [
    "# Test\n",
    "y_pred = clf.predict(X_test)\n",
    "\n",
    "# Classificaiton report\n",
    "print('Classification report:')\n",
    "print(classification_report(y_test, y_pred))\n",
    "\n",
    "# Confusion matrix\n",
    "print('Confusion matrix:')\n",
    "cm = confusion_matrix(y_test, y_pred)\n",
    "print(cm)\n",
    "plt.imshow(cm, cmap=plt.cm.Blues); plt.show()"
   ]
  },
  {
   "cell_type": "markdown",
   "metadata": {},
   "source": [
    "È possibile osservare come la combinazione ottimale degli iper-parametri sia variata, sia per `C` che per quanto riguarda `gamma`. Il classification report indica un miglioramento delle prestazioni del modello sul test set dovuto all'utilizzo dello Zero-Crossing Rate come feature, guadagnando circa il 21% in accuracy ed in weighted avg f1-score."
   ]
  }
 ],
 "metadata": {
  "kernelspec": {
   "display_name": "Python 3",
   "language": "python",
   "name": "python3"
  },
  "language_info": {
   "codemirror_mode": {
    "name": "ipython",
    "version": 3
   },
   "file_extension": ".py",
   "mimetype": "text/x-python",
   "name": "python",
   "nbconvert_exporter": "python",
   "pygments_lexer": "ipython3",
   "version": "3.8.5"
  }
 },
 "nbformat": 4,
 "nbformat_minor": 4
}
