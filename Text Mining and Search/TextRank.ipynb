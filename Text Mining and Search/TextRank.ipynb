{
 "cells": [
  {
   "cell_type": "markdown",
   "id": "c662a39d",
   "metadata": {},
   "source": [
    "# <span style=\"color:#0077b6\"> <center> Text Mining and Search - AA 2020/2021 </center>"
   ]
  },
  {
   "cell_type": "markdown",
   "id": "ccd1e839",
   "metadata": {},
   "source": [
    "## <span style=\"color:#0077b6\"> <center> TextRank </center>"
   ]
  },
  {
   "cell_type": "markdown",
   "id": "f93f2529",
   "metadata": {},
   "source": [
    "> <span style=\"color:#00b4d8\">**Studente**:</span> Campironi Matteo\n",
    ">\n",
    "> <span style=\"color:#00b4d8\">**Matricola**:</span> 801850\n",
    "\n",
    "> <span style=\"color:#00b4d8\">**Studente**:</span> Di Maggio Serena\n",
    ">\n",
    "> <span style=\"color:#00b4d8\">**Matricola**:</span> 821063"
   ]
  },
  {
   "cell_type": "markdown",
   "id": "892c7d92",
   "metadata": {},
   "source": [
    "## Importo librerie necessarie"
   ]
  },
  {
   "cell_type": "code",
   "execution_count": 1,
   "id": "6068e4f2",
   "metadata": {},
   "outputs": [],
   "source": [
    "import pandas as pd\n",
    "import numpy as np\n",
    "import os\n",
    "import re\n",
    "import unicodedata\n",
    "import matplotlib.pyplot as plt"
   ]
  },
  {
   "cell_type": "code",
   "execution_count": 2,
   "id": "aac4bddf",
   "metadata": {},
   "outputs": [],
   "source": [
    "from rouge import Rouge \n",
    "import networkx as nx\n",
    "import nltk\n",
    "from nltk import sent_tokenize, word_tokenize\n",
    "from nltk.corpus import stopwords, wordnet\n",
    "from nltk.stem import WordNetLemmatizer\n",
    "import contractions\n",
    "\n",
    "stop_words = set(stopwords.words('english'))\n",
    "lemmatizer = WordNetLemmatizer()\n",
    "rouge = Rouge()\n",
    "WHITE_SPACE_PATTERN = re.compile(r' +')\n",
    "\n",
    "from sklearn.metrics.pairwise import cosine_similarity\n",
    "from sklearn.feature_extraction.text import TfidfVectorizer"
   ]
  },
  {
   "cell_type": "markdown",
   "id": "cf5edd4b",
   "metadata": {},
   "source": [
    "## Definisco funzioni "
   ]
  },
  {
   "cell_type": "code",
   "execution_count": 3,
   "id": "76799c00",
   "metadata": {},
   "outputs": [],
   "source": [
    "def nltk_tag_to_wordnet_tag(nltk_tag):\n",
    "    if nltk_tag.startswith('J'):\n",
    "        return wordnet.ADJ\n",
    "    elif nltk_tag.startswith('V'):\n",
    "        return wordnet.VERB\n",
    "    elif nltk_tag.startswith('N'):\n",
    "        return wordnet.NOUN\n",
    "    elif nltk_tag.startswith('R'):\n",
    "        return wordnet.ADV\n",
    "    else:          \n",
    "        return None\n",
    "\n",
    "def lemmatize_sentence(sentence):\n",
    "    #tokenize the sentence and find the POS tag for each token\n",
    "    nltk_tagged = nltk.pos_tag(nltk.word_tokenize(sentence))  \n",
    "    #tuple of (token, wordnet_tag)\n",
    "    wordnet_tagged = map(lambda x: (x[0], nltk_tag_to_wordnet_tag(x[1])), nltk_tagged)\n",
    "    lemmatized_sentence = []\n",
    "    for word, tag in wordnet_tagged:\n",
    "        if tag is None:\n",
    "            #if there is no available tag, append the token as is\n",
    "            lemmatized_sentence.append(word)\n",
    "        else:        \n",
    "            #else use the tag to lemmatize the token\n",
    "            lemmatized_sentence.append(lemmatizer.lemmatize(word, tag))\n",
    "    return \" \".join(lemmatized_sentence)\n",
    "\n",
    "def stringPreprocessing(text):\n",
    "    text = text.lower() #lowercase\n",
    "    text = contractions.fix(text) #contractions\n",
    "    text = re.sub(r'[^\\w\\s]', '', text) #punctuation\n",
    "    text = re.sub(r'\\d', '', text) #numbers\n",
    "    text = re.sub(WHITE_SPACE_PATTERN, ' ', text.strip()) #whitespaces\n",
    "    text = lemmatize_sentence(text) #lemmatization\n",
    "    tokenizedText = word_tokenize(text) #tokenize\n",
    "    finalText= [item for item in tokenizedText if item not in stop_words] #stopwords\n",
    "    finalText = ' '.join(map(str, finalText))\n",
    "    \n",
    "    return finalText"
   ]
  },
  {
   "cell_type": "code",
   "execution_count": 4,
   "id": "f2d6495f",
   "metadata": {},
   "outputs": [],
   "source": [
    "def TextRank(article):\n",
    "    #matrice coseno\n",
    "    sentences = sent_tokenize(article)\n",
    "    sentencesPP = [stringPreprocessing(sentence) for sentence in sentences]\n",
    "    tfidfMat = tfidfVectorizerFit.transform(sentencesPP)\n",
    "    cosMatrix = cosine_similarity(tfidfMat)\n",
    "    np.fill_diagonal(cosMatrix, 0)\n",
    "    \n",
    "    #textrank\n",
    "    nx_graph = nx.from_numpy_array(cosMatrix)\n",
    "    scores = nx.pagerank(nx_graph)\n",
    "    ranked_sentences = sorted(((scores[i],s) for i,s in enumerate(sentences)), reverse=True)\n",
    "    summary = []\n",
    "    \n",
    "    for i in range(len(ranked_sentences)):\n",
    "        summary.append(ranked_sentences[:][i][1])   \n",
    "    \n",
    "    return summary\n",
    "\n",
    "def MMR(sentence, top_summary, article, l=0.5):\n",
    "\n",
    "    sentence = stringPreprocessing(sentence)\n",
    "    \n",
    "    sentence = tfidfVectorizerFit.transform([sentence])\n",
    "    article = tfidfVectorizerFit.transform([article])\n",
    "    \n",
    "    sim1 = cosine_similarity(sentence, article)\n",
    "    \n",
    "    sim2 = []\n",
    "    for sent in top_summary:\n",
    "        sent = stringPreprocessing(sent)\n",
    "        sent = tfidfVectorizerFit.transform([sent])\n",
    "        sim2.append(cosine_similarity(sentence, sent))\n",
    "        \n",
    "    mmr = l*sim1 + (1-l)*max(sim2)\n",
    "    \n",
    "    return mmr[0][0]"
   ]
  },
  {
   "cell_type": "markdown",
   "id": "4f4ed941",
   "metadata": {},
   "source": [
    "## Carico il dataset"
   ]
  },
  {
   "cell_type": "code",
   "execution_count": 5,
   "id": "d587e42b",
   "metadata": {},
   "outputs": [
    {
     "data": {
      "text/html": [
       "<div>\n",
       "<style scoped>\n",
       "    .dataframe tbody tr th:only-of-type {\n",
       "        vertical-align: middle;\n",
       "    }\n",
       "\n",
       "    .dataframe tbody tr th {\n",
       "        vertical-align: top;\n",
       "    }\n",
       "\n",
       "    .dataframe thead th {\n",
       "        text-align: right;\n",
       "    }\n",
       "</style>\n",
       "<table border=\"1\" class=\"dataframe\">\n",
       "  <thead>\n",
       "    <tr style=\"text-align: right;\">\n",
       "      <th></th>\n",
       "      <th>article</th>\n",
       "      <th>summary</th>\n",
       "      <th>articlePP</th>\n",
       "    </tr>\n",
       "  </thead>\n",
       "  <tbody>\n",
       "    <tr>\n",
       "      <th>0</th>\n",
       "      <td>As ash from Chile's Calbuco Volcano spread eas...</td>\n",
       "      <td>Volcano already has erupted twice this week. I...</td>\n",
       "      <td>ash chile calbuco volcano spread east argentin...</td>\n",
       "    </tr>\n",
       "    <tr>\n",
       "      <th>1</th>\n",
       "      <td>Baltimore Ravens star running back Ray Rice wa...</td>\n",
       "      <td>Baltimore Raven running back Ray Rice is indic...</td>\n",
       "      <td>baltimore raven star run back ray rice indict ...</td>\n",
       "    </tr>\n",
       "    <tr>\n",
       "      <th>2</th>\n",
       "      <td>Nine years after \"Bruce Almighty,\" Universal i...</td>\n",
       "      <td>EW has confirmed that Universal has plans to r...</td>\n",
       "      <td>nine year bruce almighty universal plot second...</td>\n",
       "    </tr>\n",
       "    <tr>\n",
       "      <th>3</th>\n",
       "      <td>Former Italian Prime Minister Silvio Berluscon...</td>\n",
       "      <td>A judge in Italy indicts Sergio Berlusconi, ac...</td>\n",
       "      <td>former italian prime minister silvio berluscon...</td>\n",
       "    </tr>\n",
       "    <tr>\n",
       "      <th>4</th>\n",
       "      <td>Despite most humans' land-centric view, Earth ...</td>\n",
       "      <td>Oceans make life on Earth possible providing o...</td>\n",
       "      <td>despite human landcentric view earth ocean pla...</td>\n",
       "    </tr>\n",
       "    <tr>\n",
       "      <th>...</th>\n",
       "      <td>...</td>\n",
       "      <td>...</td>\n",
       "      <td>...</td>\n",
       "    </tr>\n",
       "    <tr>\n",
       "      <th>19995</th>\n",
       "      <td>A teenage girl has died after she jumped out o...</td>\n",
       "      <td>Laikyn Field hit the pavement on Saturday when...</td>\n",
       "      <td>teenage girl die jump parent move car argument...</td>\n",
       "    </tr>\n",
       "    <tr>\n",
       "      <th>19996</th>\n",
       "      <td>Cash on tap: Scarlet Johansson is being paid 2...</td>\n",
       "      <td>Scarlett Johansson admitted to Mail on Sunday ...</td>\n",
       "      <td>cash tap scarlet johansson pay sodastream appe...</td>\n",
       "    </tr>\n",
       "    <tr>\n",
       "      <th>19997</th>\n",
       "      <td>With young children inevitably set to ask a ba...</td>\n",
       "      <td>Fun infographic attempts to explain the scienc...</td>\n",
       "      <td>young child inevitably set ask barrage questio...</td>\n",
       "    </tr>\n",
       "    <tr>\n",
       "      <th>19998</th>\n",
       "      <td>Prince Harry proved he is an excellent uncle-t...</td>\n",
       "      <td>Prince was pictured holding the bear as he lan...</td>\n",
       "      <td>prince harry prove excellent uncletobe handdel...</td>\n",
       "    </tr>\n",
       "    <tr>\n",
       "      <th>19999</th>\n",
       "      <td>It's not every day two senior barristers in th...</td>\n",
       "      <td>The City of Knox council made an 'administrati...</td>\n",
       "      <td>every day two senior barrister nation high cou...</td>\n",
       "    </tr>\n",
       "  </tbody>\n",
       "</table>\n",
       "<p>20000 rows × 3 columns</p>\n",
       "</div>"
      ],
      "text/plain": [
       "                                                 article  \\\n",
       "0      As ash from Chile's Calbuco Volcano spread eas...   \n",
       "1      Baltimore Ravens star running back Ray Rice wa...   \n",
       "2      Nine years after \"Bruce Almighty,\" Universal i...   \n",
       "3      Former Italian Prime Minister Silvio Berluscon...   \n",
       "4      Despite most humans' land-centric view, Earth ...   \n",
       "...                                                  ...   \n",
       "19995  A teenage girl has died after she jumped out o...   \n",
       "19996  Cash on tap: Scarlet Johansson is being paid 2...   \n",
       "19997  With young children inevitably set to ask a ba...   \n",
       "19998  Prince Harry proved he is an excellent uncle-t...   \n",
       "19999  It's not every day two senior barristers in th...   \n",
       "\n",
       "                                                 summary  \\\n",
       "0      Volcano already has erupted twice this week. I...   \n",
       "1      Baltimore Raven running back Ray Rice is indic...   \n",
       "2      EW has confirmed that Universal has plans to r...   \n",
       "3      A judge in Italy indicts Sergio Berlusconi, ac...   \n",
       "4      Oceans make life on Earth possible providing o...   \n",
       "...                                                  ...   \n",
       "19995  Laikyn Field hit the pavement on Saturday when...   \n",
       "19996  Scarlett Johansson admitted to Mail on Sunday ...   \n",
       "19997  Fun infographic attempts to explain the scienc...   \n",
       "19998  Prince was pictured holding the bear as he lan...   \n",
       "19999  The City of Knox council made an 'administrati...   \n",
       "\n",
       "                                               articlePP  \n",
       "0      ash chile calbuco volcano spread east argentin...  \n",
       "1      baltimore raven star run back ray rice indict ...  \n",
       "2      nine year bruce almighty universal plot second...  \n",
       "3      former italian prime minister silvio berluscon...  \n",
       "4      despite human landcentric view earth ocean pla...  \n",
       "...                                                  ...  \n",
       "19995  teenage girl die jump parent move car argument...  \n",
       "19996  cash tap scarlet johansson pay sodastream appe...  \n",
       "19997  young child inevitably set ask barrage questio...  \n",
       "19998  prince harry prove excellent uncletobe handdel...  \n",
       "19999  every day two senior barrister nation high cou...  \n",
       "\n",
       "[20000 rows x 3 columns]"
      ]
     },
     "execution_count": 5,
     "metadata": {},
     "output_type": "execute_result"
    }
   ],
   "source": [
    "df = pd.read_csv(\"df.csv\")\n",
    "df"
   ]
  },
  {
   "cell_type": "markdown",
   "id": "d7a1d0df",
   "metadata": {},
   "source": [
    "## TextRank"
   ]
  },
  {
   "cell_type": "code",
   "execution_count": 6,
   "id": "34564318",
   "metadata": {},
   "outputs": [],
   "source": [
    "tfidfVectorizer = TfidfVectorizer()\n",
    "tfidfVectorizerFit = tfidfVectorizer.fit(df['articlePP'])"
   ]
  },
  {
   "cell_type": "code",
   "execution_count": 7,
   "id": "ad8b7c9b",
   "metadata": {},
   "outputs": [
    {
     "name": "stdout",
     "output_type": "stream",
     "text": [
      "CPU times: user 2h 55min 15s, sys: 47.8 s, total: 2h 56min 3s\n",
      "Wall time: 2h 56min 44s\n"
     ]
    }
   ],
   "source": [
    "%%time\n",
    "summaries = []\n",
    "\n",
    "for i in range(20000):\n",
    "    tr_sentence = TextRank(df[\"article\"][i])\n",
    "    mmr = []\n",
    "    for sent in tr_sentence[:min(10, len(tr_sentence))]:\n",
    "        mmr.append(MMR(sent, tr_sentence[:10], df[\"articlePP\"][i], 0.8))\n",
    "    mmr = np.array(mmr)\n",
    "    mmr_ind = mmr.argsort()[-4:][::-1]\n",
    "    mmr_sentence = [tr_sentence[i] for i in mmr_ind]\n",
    "    summaries.append(' '.join(mmr_sentence))\n",
    "    \n",
    "df[\"summary_tr\"] = summaries"
   ]
  },
  {
   "cell_type": "code",
   "execution_count": 26,
   "id": "41ee109c",
   "metadata": {},
   "outputs": [
    {
     "data": {
      "text/html": [
       "<div>\n",
       "<style scoped>\n",
       "    .dataframe tbody tr th:only-of-type {\n",
       "        vertical-align: middle;\n",
       "    }\n",
       "\n",
       "    .dataframe tbody tr th {\n",
       "        vertical-align: top;\n",
       "    }\n",
       "\n",
       "    .dataframe thead th {\n",
       "        text-align: right;\n",
       "    }\n",
       "</style>\n",
       "<table border=\"1\" class=\"dataframe\">\n",
       "  <thead>\n",
       "    <tr style=\"text-align: right;\">\n",
       "      <th></th>\n",
       "      <th>article</th>\n",
       "      <th>summary</th>\n",
       "      <th>articlePP</th>\n",
       "      <th>summary_tr</th>\n",
       "      <th>rouge1</th>\n",
       "      <th>rouge2</th>\n",
       "      <th>rougel</th>\n",
       "    </tr>\n",
       "  </thead>\n",
       "  <tbody>\n",
       "    <tr>\n",
       "      <th>0</th>\n",
       "      <td>As ash from Chile's Calbuco Volcano spread eas...</td>\n",
       "      <td>Volcano already has erupted twice this week. I...</td>\n",
       "      <td>ash chile calbuco volcano spread east argentin...</td>\n",
       "      <td>As ash from Chile's Calbuco Volcano spread eas...</td>\n",
       "      <td>0.350877</td>\n",
       "      <td>0.196429</td>\n",
       "      <td>0.383838</td>\n",
       "    </tr>\n",
       "    <tr>\n",
       "      <th>1</th>\n",
       "      <td>Baltimore Ravens star running back Ray Rice wa...</td>\n",
       "      <td>Baltimore Raven running back Ray Rice is indic...</td>\n",
       "      <td>baltimore raven star run back ray rice indict ...</td>\n",
       "      <td>Baltimore Ravens star running back Ray Rice wa...</td>\n",
       "      <td>0.345324</td>\n",
       "      <td>0.160584</td>\n",
       "      <td>0.393162</td>\n",
       "    </tr>\n",
       "    <tr>\n",
       "      <th>2</th>\n",
       "      <td>Nine years after \"Bruce Almighty,\" Universal i...</td>\n",
       "      <td>EW has confirmed that Universal has plans to r...</td>\n",
       "      <td>nine year bruce almighty universal plot second...</td>\n",
       "      <td>This wouldn't be the first \"Bruce\" sequel; \"Ev...</td>\n",
       "      <td>0.478528</td>\n",
       "      <td>0.360248</td>\n",
       "      <td>0.496350</td>\n",
       "    </tr>\n",
       "    <tr>\n",
       "      <th>3</th>\n",
       "      <td>Former Italian Prime Minister Silvio Berluscon...</td>\n",
       "      <td>A judge in Italy indicts Sergio Berlusconi, ac...</td>\n",
       "      <td>former italian prime minister silvio berluscon...</td>\n",
       "      <td>Former Italian Prime Minister Silvio Berluscon...</td>\n",
       "      <td>0.222222</td>\n",
       "      <td>0.057143</td>\n",
       "      <td>0.184615</td>\n",
       "    </tr>\n",
       "    <tr>\n",
       "      <th>4</th>\n",
       "      <td>Despite most humans' land-centric view, Earth ...</td>\n",
       "      <td>Oceans make life on Earth possible providing o...</td>\n",
       "      <td>despite human landcentric view earth ocean pla...</td>\n",
       "      <td>But to truly explore ocean trenches, scientist...</td>\n",
       "      <td>0.072917</td>\n",
       "      <td>0.000000</td>\n",
       "      <td>0.076923</td>\n",
       "    </tr>\n",
       "    <tr>\n",
       "      <th>...</th>\n",
       "      <td>...</td>\n",
       "      <td>...</td>\n",
       "      <td>...</td>\n",
       "      <td>...</td>\n",
       "      <td>...</td>\n",
       "      <td>...</td>\n",
       "      <td>...</td>\n",
       "    </tr>\n",
       "    <tr>\n",
       "      <th>19994</th>\n",
       "      <td>A teenage girl has died after she jumped out o...</td>\n",
       "      <td>Laikyn Field hit the pavement on Saturday when...</td>\n",
       "      <td>teenage girl die jump parent move car argument...</td>\n",
       "      <td>Tragedy: Laikyn Field, 16, hit the pavement af...</td>\n",
       "      <td>0.478632</td>\n",
       "      <td>0.330435</td>\n",
       "      <td>0.517647</td>\n",
       "    </tr>\n",
       "    <tr>\n",
       "      <th>19995</th>\n",
       "      <td>Cash on tap: Scarlet Johansson is being paid 2...</td>\n",
       "      <td>Scarlett Johansson admitted to Mail on Sunday ...</td>\n",
       "      <td>cash tap scarlet johansson pay sodastream appe...</td>\n",
       "      <td>Johansson insists SodaStream provides employme...</td>\n",
       "      <td>0.274510</td>\n",
       "      <td>0.060000</td>\n",
       "      <td>0.243902</td>\n",
       "    </tr>\n",
       "    <tr>\n",
       "      <th>19996</th>\n",
       "      <td>With young children inevitably set to ask a ba...</td>\n",
       "      <td>Fun infographic attempts to explain the scienc...</td>\n",
       "      <td>young child inevitably set ask barrage questio...</td>\n",
       "      <td>The total number of presents would set Santa b...</td>\n",
       "      <td>0.604317</td>\n",
       "      <td>0.437956</td>\n",
       "      <td>0.628571</td>\n",
       "    </tr>\n",
       "    <tr>\n",
       "      <th>19997</th>\n",
       "      <td>Prince Harry proved he is an excellent uncle-t...</td>\n",
       "      <td>Prince was pictured holding the bear as he lan...</td>\n",
       "      <td>prince harry prove excellent uncletobe handdel...</td>\n",
       "      <td>It comes as Prince Harry's romance  with girlf...</td>\n",
       "      <td>0.234234</td>\n",
       "      <td>0.036697</td>\n",
       "      <td>0.214286</td>\n",
       "    </tr>\n",
       "    <tr>\n",
       "      <th>19998</th>\n",
       "      <td>It's not every day two senior barristers in th...</td>\n",
       "      <td>The City of Knox council made an 'administrati...</td>\n",
       "      <td>every day two senior barrister nation high cou...</td>\n",
       "      <td>In September 2013, Izzy's owner Ms Isbester pl...</td>\n",
       "      <td>0.320000</td>\n",
       "      <td>0.064516</td>\n",
       "      <td>0.274725</td>\n",
       "    </tr>\n",
       "  </tbody>\n",
       "</table>\n",
       "<p>19999 rows × 7 columns</p>\n",
       "</div>"
      ],
      "text/plain": [
       "                                                 article  \\\n",
       "0      As ash from Chile's Calbuco Volcano spread eas...   \n",
       "1      Baltimore Ravens star running back Ray Rice wa...   \n",
       "2      Nine years after \"Bruce Almighty,\" Universal i...   \n",
       "3      Former Italian Prime Minister Silvio Berluscon...   \n",
       "4      Despite most humans' land-centric view, Earth ...   \n",
       "...                                                  ...   \n",
       "19994  A teenage girl has died after she jumped out o...   \n",
       "19995  Cash on tap: Scarlet Johansson is being paid 2...   \n",
       "19996  With young children inevitably set to ask a ba...   \n",
       "19997  Prince Harry proved he is an excellent uncle-t...   \n",
       "19998  It's not every day two senior barristers in th...   \n",
       "\n",
       "                                                 summary  \\\n",
       "0      Volcano already has erupted twice this week. I...   \n",
       "1      Baltimore Raven running back Ray Rice is indic...   \n",
       "2      EW has confirmed that Universal has plans to r...   \n",
       "3      A judge in Italy indicts Sergio Berlusconi, ac...   \n",
       "4      Oceans make life on Earth possible providing o...   \n",
       "...                                                  ...   \n",
       "19994  Laikyn Field hit the pavement on Saturday when...   \n",
       "19995  Scarlett Johansson admitted to Mail on Sunday ...   \n",
       "19996  Fun infographic attempts to explain the scienc...   \n",
       "19997  Prince was pictured holding the bear as he lan...   \n",
       "19998  The City of Knox council made an 'administrati...   \n",
       "\n",
       "                                               articlePP  \\\n",
       "0      ash chile calbuco volcano spread east argentin...   \n",
       "1      baltimore raven star run back ray rice indict ...   \n",
       "2      nine year bruce almighty universal plot second...   \n",
       "3      former italian prime minister silvio berluscon...   \n",
       "4      despite human landcentric view earth ocean pla...   \n",
       "...                                                  ...   \n",
       "19994  teenage girl die jump parent move car argument...   \n",
       "19995  cash tap scarlet johansson pay sodastream appe...   \n",
       "19996  young child inevitably set ask barrage questio...   \n",
       "19997  prince harry prove excellent uncletobe handdel...   \n",
       "19998  every day two senior barrister nation high cou...   \n",
       "\n",
       "                                              summary_tr    rouge1    rouge2  \\\n",
       "0      As ash from Chile's Calbuco Volcano spread eas...  0.350877  0.196429   \n",
       "1      Baltimore Ravens star running back Ray Rice wa...  0.345324  0.160584   \n",
       "2      This wouldn't be the first \"Bruce\" sequel; \"Ev...  0.478528  0.360248   \n",
       "3      Former Italian Prime Minister Silvio Berluscon...  0.222222  0.057143   \n",
       "4      But to truly explore ocean trenches, scientist...  0.072917  0.000000   \n",
       "...                                                  ...       ...       ...   \n",
       "19994  Tragedy: Laikyn Field, 16, hit the pavement af...  0.478632  0.330435   \n",
       "19995  Johansson insists SodaStream provides employme...  0.274510  0.060000   \n",
       "19996  The total number of presents would set Santa b...  0.604317  0.437956   \n",
       "19997  It comes as Prince Harry's romance  with girlf...  0.234234  0.036697   \n",
       "19998  In September 2013, Izzy's owner Ms Isbester pl...  0.320000  0.064516   \n",
       "\n",
       "         rougel  \n",
       "0      0.383838  \n",
       "1      0.393162  \n",
       "2      0.496350  \n",
       "3      0.184615  \n",
       "4      0.076923  \n",
       "...         ...  \n",
       "19994  0.517647  \n",
       "19995  0.243902  \n",
       "19996  0.628571  \n",
       "19997  0.214286  \n",
       "19998  0.274725  \n",
       "\n",
       "[19999 rows x 7 columns]"
      ]
     },
     "execution_count": 26,
     "metadata": {},
     "output_type": "execute_result"
    }
   ],
   "source": [
    "rouge1 = []\n",
    "rouge2 = []\n",
    "rougel = []\n",
    "\n",
    "for i in range(19999):\n",
    "    scores = rouge.get_scores(df[\"summary\"][i], df[\"summary_tr\"][i])\n",
    "    rouge1.append(scores[0][\"rouge-1\"][\"f\"])\n",
    "    rouge2.append(scores[0][\"rouge-2\"][\"f\"])\n",
    "    rougel.append(scores[0][\"rouge-l\"][\"f\"])\n",
    "    \n",
    "df[\"rouge1\"] = rouge1\n",
    "df[\"rouge2\"] = rouge2\n",
    "df[\"rougel\"] = rougel\n",
    "df"
   ]
  },
  {
   "cell_type": "code",
   "execution_count": 27,
   "id": "a2341328",
   "metadata": {},
   "outputs": [],
   "source": [
    "df.to_csv(\"df_TR.csv\", index=False)"
   ]
  },
  {
   "cell_type": "markdown",
   "id": "1c06a703",
   "metadata": {},
   "source": [
    "## Calcolo Rouge medio"
   ]
  },
  {
   "cell_type": "code",
   "execution_count": 5,
   "id": "aa344e0b",
   "metadata": {},
   "outputs": [
    {
     "data": {
      "text/plain": [
       "{'rouge-1': {'f': 0.2587321047985369,\n",
       "  'p': 0.4127265486466989,\n",
       "  'r': 0.19952998429040725},\n",
       " 'rouge-2': {'f': 0.09129079812971089,\n",
       "  'p': 0.14763297629325675,\n",
       "  'r': 0.06986719936517753},\n",
       " 'rouge-l': {'f': 0.2633981419785787,\n",
       "  'p': 0.3677089842842674,\n",
       "  'r': 0.2174226790720997}}"
      ]
     },
     "execution_count": 5,
     "metadata": {},
     "output_type": "execute_result"
    }
   ],
   "source": [
    "rouge.get_scores(df[\"summary\"], df[\"summary_tr\"], avg=True)"
   ]
  },
  {
   "cell_type": "markdown",
   "id": "df07db40",
   "metadata": {},
   "source": [
    "## Esempio di riassunto"
   ]
  },
  {
   "cell_type": "code",
   "execution_count": 30,
   "id": "f9b28607",
   "metadata": {},
   "outputs": [
    {
     "data": {
      "text/plain": [
       "0.234234229731353"
      ]
     },
     "execution_count": 30,
     "metadata": {},
     "output_type": "execute_result"
    }
   ],
   "source": [
    "df.rouge1[19997]"
   ]
  },
  {
   "cell_type": "code",
   "execution_count": 31,
   "id": "0c5a4fbf",
   "metadata": {},
   "outputs": [
    {
     "data": {
      "text/plain": [
       "'Prince was pictured holding the bear as he landed at Kensington Palace. Promised girl he would pass on bear to the Duke and Duchess of Cambridge. Was given the present during visit to brain injury charity in Nottingham'"
      ]
     },
     "execution_count": 31,
     "metadata": {},
     "output_type": "execute_result"
    }
   ],
   "source": [
    "df.summary[19997]"
   ]
  },
  {
   "cell_type": "code",
   "execution_count": 32,
   "id": "aad83555",
   "metadata": {},
   "outputs": [
    {
     "data": {
      "text/plain": [
       "\"It comes as Prince Harry's romance  with girlfriend Cressida Bonas is reportedly 'on the rocks' because she  is not ready to marry. 'On the rocks': Prince Harry's romance with girlfriend Cressida Bonas is reportedly in trouble. A friend told the paper that Harry wants to get married and settle down with Cressida. True to his word: Prince Harry pictured holding the blue bear he promised to give to his unborn niece or nephew.\""
      ]
     },
     "execution_count": 32,
     "metadata": {},
     "output_type": "execute_result"
    }
   ],
   "source": [
    "df.summary_tr[19997]"
   ]
  }
 ],
 "metadata": {
  "kernelspec": {
   "display_name": "Python 3",
   "language": "python",
   "name": "python3"
  },
  "language_info": {
   "codemirror_mode": {
    "name": "ipython",
    "version": 3
   },
   "file_extension": ".py",
   "mimetype": "text/x-python",
   "name": "python",
   "nbconvert_exporter": "python",
   "pygments_lexer": "ipython3",
   "version": "3.8.10"
  }
 },
 "nbformat": 4,
 "nbformat_minor": 5
}
